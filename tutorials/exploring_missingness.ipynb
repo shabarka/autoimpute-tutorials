{
 "cells": [
  {
   "cell_type": "markdown",
   "metadata": {},
   "source": [
    "## Using AutoImpute to Explore Missing Data\n",
    "---\n",
    "This notebook introduces users to the `autoimpute` package. The tutorial includes:\n",
    "* Getting started\n",
    "* Explorations of data with missing values"
   ]
  },
  {
   "cell_type": "markdown",
   "metadata": {},
   "source": [
    "### Getting Started\n",
    "---\n",
    "<div> First, let's examine what the `autoimpute package` has to offer:</div>"
   ]
  },
  {
   "cell_type": "code",
   "execution_count": 1,
   "metadata": {},
   "outputs": [
    {
     "name": "stdout",
     "output_type": "stream",
     "text": [
      "Available from autoimpute.utils\n",
      "-------------------------------\n",
      "['check_data_structure', 'check_missingness', 'check_nan_columns', 'checks', 'feature_corr', 'feature_cov', 'flux', 'helpers', 'inbound', 'influx', 'md_locations', 'md_pairs', 'md_pattern', 'outbound', 'outflux', 'patterns', 'proportions']\n",
      "\n"
     ]
    }
   ],
   "source": [
    "import autoimpute.utils as au\n",
    "\n",
    "def module_explore(m):\n",
    "    methods = [f for f in dir(m) if not f.startswith(\"_\")]\n",
    "    statement = f\"Available from {m.__name__}\"\n",
    "    print(f\"{statement}\\n{'-'*len(statement)}\\n{methods}\\n\")\n",
    "\n",
    "module_explore(au)"
   ]
  },
  {
   "cell_type": "markdown",
   "metadata": {},
   "source": [
    "### The Utils Module\n",
    "---\n",
    "The `utils` module contains checks to ensure datasets play nicely with imputation methods and functions to explore patterns in missing data. First, note that `check_data_structure`, `check_missingness`, and `check_nan_columns` are used to build custom `Imputers`. This is a more advanced topic covered in a future tutorial. For now, we'll explore the following methods to get started:\n",
    "* `feature_cov` and `feature_corr`\n",
    "* `proportions`, `md_locations`, `md_pattern`, and `md_pairs`\n",
    "* `inbound`, `outbound`, `influx`, `outflux`, and `flux`\n",
    "\n",
    "This tutorial explains how the methods above work in `autoimpute`. They follow Van Buuren's (VB) Flexible Imputation of Missing Data, 2nd Edition, Section 4.1 closely. For a deeper understanding of the formulas behind each method, refer to his excellent text. Let's start with an example dataframe that mimics the structure from VB Section 4.1:"
   ]
  },
  {
   "cell_type": "code",
   "execution_count": 2,
   "metadata": {},
   "outputs": [
    {
     "data": {
      "text/html": [
       "<div>\n",
       "<style>\n",
       "    .dataframe thead tr:only-child th {\n",
       "        text-align: right;\n",
       "    }\n",
       "\n",
       "    .dataframe thead th {\n",
       "        text-align: left;\n",
       "    }\n",
       "\n",
       "    .dataframe tbody tr th {\n",
       "        vertical-align: top;\n",
       "    }\n",
       "</style>\n",
       "<table border=\"1\" class=\"dataframe\">\n",
       "  <thead>\n",
       "    <tr style=\"text-align: right;\">\n",
       "      <th></th>\n",
       "      <th>A</th>\n",
       "      <th>B</th>\n",
       "      <th>C</th>\n",
       "    </tr>\n",
       "  </thead>\n",
       "  <tbody>\n",
       "    <tr>\n",
       "      <th>0</th>\n",
       "      <td>1.0</td>\n",
       "      <td>2.0</td>\n",
       "      <td>-1.0</td>\n",
       "    </tr>\n",
       "    <tr>\n",
       "      <th>1</th>\n",
       "      <td>5.0</td>\n",
       "      <td>4.0</td>\n",
       "      <td>1.0</td>\n",
       "    </tr>\n",
       "    <tr>\n",
       "      <th>2</th>\n",
       "      <td>9.0</td>\n",
       "      <td>3.0</td>\n",
       "      <td>NaN</td>\n",
       "    </tr>\n",
       "    <tr>\n",
       "      <th>3</th>\n",
       "      <td>6.0</td>\n",
       "      <td>6.0</td>\n",
       "      <td>NaN</td>\n",
       "    </tr>\n",
       "    <tr>\n",
       "      <th>4</th>\n",
       "      <td>12.0</td>\n",
       "      <td>11.0</td>\n",
       "      <td>NaN</td>\n",
       "    </tr>\n",
       "    <tr>\n",
       "      <th>5</th>\n",
       "      <td>11.0</td>\n",
       "      <td>NaN</td>\n",
       "      <td>-1.0</td>\n",
       "    </tr>\n",
       "    <tr>\n",
       "      <th>6</th>\n",
       "      <td>NaN</td>\n",
       "      <td>NaN</td>\n",
       "      <td>1.0</td>\n",
       "    </tr>\n",
       "    <tr>\n",
       "      <th>7</th>\n",
       "      <td>NaN</td>\n",
       "      <td>NaN</td>\n",
       "      <td>0.0</td>\n",
       "    </tr>\n",
       "  </tbody>\n",
       "</table>\n",
       "</div>"
      ],
      "text/plain": [
       "      A     B    C\n",
       "0   1.0   2.0 -1.0\n",
       "1   5.0   4.0  1.0\n",
       "2   9.0   3.0  NaN\n",
       "3   6.0   6.0  NaN\n",
       "4  12.0  11.0  NaN\n",
       "5  11.0   NaN -1.0\n",
       "6   NaN   NaN  1.0\n",
       "7   NaN   NaN  0.0"
      ]
     },
     "execution_count": 2,
     "metadata": {},
     "output_type": "execute_result"
    }
   ],
   "source": [
    "import numpy as np\n",
    "import pandas as pd\n",
    "\n",
    "missing_data = pd.DataFrame({\n",
    "    \"A\": [1, 5, 9, 6, 12, 11, np.nan, np.nan],\n",
    "    \"B\": [2, 4, 3, 6, 11, np.nan, np.nan, np.nan],\n",
    "    \"C\": [-1, 1, np.nan, np.nan, np.nan, -1, 1, 0]\n",
    "})\n",
    "\n",
    "missing_data"
   ]
  },
  {
   "cell_type": "markdown",
   "metadata": {},
   "source": [
    "#### Covariance and Correlation\n",
    "The `utils` module contains simple methods (`feature_cov` and `feature_corr`) to example the covariance and correlation matrix. Each method takes a dataframe as an argument. Missing values are **dropped by default**. Therefore, these methods contain the covariance / correlation of observed features."
   ]
  },
  {
   "cell_type": "code",
   "execution_count": 3,
   "metadata": {},
   "outputs": [
    {
     "data": {
      "text/html": [
       "<div>\n",
       "<style>\n",
       "    .dataframe thead tr:only-child th {\n",
       "        text-align: right;\n",
       "    }\n",
       "\n",
       "    .dataframe thead th {\n",
       "        text-align: left;\n",
       "    }\n",
       "\n",
       "    .dataframe tbody tr th {\n",
       "        vertical-align: top;\n",
       "    }\n",
       "</style>\n",
       "<table border=\"1\" class=\"dataframe\">\n",
       "  <thead>\n",
       "    <tr style=\"text-align: right;\">\n",
       "      <th></th>\n",
       "      <th>A</th>\n",
       "      <th>B</th>\n",
       "      <th>C</th>\n",
       "    </tr>\n",
       "  </thead>\n",
       "  <tbody>\n",
       "    <tr>\n",
       "      <th>A</th>\n",
       "      <td>17.066667</td>\n",
       "      <td>11.35</td>\n",
       "      <td>-0.666667</td>\n",
       "    </tr>\n",
       "    <tr>\n",
       "      <th>B</th>\n",
       "      <td>11.350000</td>\n",
       "      <td>12.70</td>\n",
       "      <td>2.000000</td>\n",
       "    </tr>\n",
       "    <tr>\n",
       "      <th>C</th>\n",
       "      <td>-0.666667</td>\n",
       "      <td>2.00</td>\n",
       "      <td>1.000000</td>\n",
       "    </tr>\n",
       "  </tbody>\n",
       "</table>\n",
       "</div>"
      ],
      "text/plain": [
       "           A      B         C\n",
       "A  17.066667  11.35 -0.666667\n",
       "B  11.350000  12.70  2.000000\n",
       "C  -0.666667   2.00  1.000000"
      ]
     },
     "execution_count": 3,
     "metadata": {},
     "output_type": "execute_result"
    }
   ],
   "source": [
    "# Covariance matrix after missing records dropped\n",
    "au.feature_cov(missing_data)"
   ]
  },
  {
   "cell_type": "code",
   "execution_count": 4,
   "metadata": {},
   "outputs": [
    {
     "data": {
      "text/html": [
       "<div>\n",
       "<style>\n",
       "    .dataframe thead tr:only-child th {\n",
       "        text-align: right;\n",
       "    }\n",
       "\n",
       "    .dataframe thead th {\n",
       "        text-align: left;\n",
       "    }\n",
       "\n",
       "    .dataframe tbody tr th {\n",
       "        vertical-align: top;\n",
       "    }\n",
       "</style>\n",
       "<table border=\"1\" class=\"dataframe\">\n",
       "  <thead>\n",
       "    <tr style=\"text-align: right;\">\n",
       "      <th></th>\n",
       "      <th>A</th>\n",
       "      <th>B</th>\n",
       "      <th>C</th>\n",
       "    </tr>\n",
       "  </thead>\n",
       "  <tbody>\n",
       "    <tr>\n",
       "      <th>A</th>\n",
       "      <td>1.000000</td>\n",
       "      <td>0.765722</td>\n",
       "      <td>-0.114708</td>\n",
       "    </tr>\n",
       "    <tr>\n",
       "      <th>B</th>\n",
       "      <td>0.765722</td>\n",
       "      <td>1.000000</td>\n",
       "      <td>1.000000</td>\n",
       "    </tr>\n",
       "    <tr>\n",
       "      <th>C</th>\n",
       "      <td>-0.114708</td>\n",
       "      <td>1.000000</td>\n",
       "      <td>1.000000</td>\n",
       "    </tr>\n",
       "  </tbody>\n",
       "</table>\n",
       "</div>"
      ],
      "text/plain": [
       "          A         B         C\n",
       "A  1.000000  0.765722 -0.114708\n",
       "B  0.765722  1.000000  1.000000\n",
       "C -0.114708  1.000000  1.000000"
      ]
     },
     "execution_count": 4,
     "metadata": {},
     "output_type": "execute_result"
    }
   ],
   "source": [
    "# Correlation matrix after missing records dropped\n",
    "au.feature_corr(missing_data)"
   ]
  },
  {
   "cell_type": "markdown",
   "metadata": {},
   "source": [
    "#### Locations and Patterns of Missingness\n",
    "The `utils` module also contains methods to examine the locations and patterns of missingness. These methods help assess where data is missing, how often it is missing, and its co-occurence with missingness in other features."
   ]
  },
  {
   "cell_type": "markdown",
   "metadata": {},
   "source": [
    "The first of these methods is **`proportions`**. It gives us the percent missing (\"poms\") and percent observed (\"pobs\") for each feature in a dataset. Note that the sum of these two columns should always equal 1. Each row is now a feature from the original dataset."
   ]
  },
  {
   "cell_type": "code",
   "execution_count": 5,
   "metadata": {},
   "outputs": [
    {
     "data": {
      "text/html": [
       "<div>\n",
       "<style>\n",
       "    .dataframe thead tr:only-child th {\n",
       "        text-align: right;\n",
       "    }\n",
       "\n",
       "    .dataframe thead th {\n",
       "        text-align: left;\n",
       "    }\n",
       "\n",
       "    .dataframe tbody tr th {\n",
       "        vertical-align: top;\n",
       "    }\n",
       "</style>\n",
       "<table border=\"1\" class=\"dataframe\">\n",
       "  <thead>\n",
       "    <tr style=\"text-align: right;\">\n",
       "      <th></th>\n",
       "      <th>pobs</th>\n",
       "      <th>poms</th>\n",
       "    </tr>\n",
       "  </thead>\n",
       "  <tbody>\n",
       "    <tr>\n",
       "      <th>A</th>\n",
       "      <td>0.750</td>\n",
       "      <td>0.250</td>\n",
       "    </tr>\n",
       "    <tr>\n",
       "      <th>B</th>\n",
       "      <td>0.625</td>\n",
       "      <td>0.375</td>\n",
       "    </tr>\n",
       "    <tr>\n",
       "      <th>C</th>\n",
       "      <td>0.625</td>\n",
       "      <td>0.375</td>\n",
       "    </tr>\n",
       "  </tbody>\n",
       "</table>\n",
       "</div>"
      ],
      "text/plain": [
       "    pobs   poms\n",
       "A  0.750  0.250\n",
       "B  0.625  0.375\n",
       "C  0.625  0.375"
      ]
     },
     "execution_count": 5,
     "metadata": {},
     "output_type": "execute_result"
    }
   ],
   "source": [
    "au.proportions(missing_data)"
   ]
  },
  {
   "cell_type": "markdown",
   "metadata": {},
   "source": [
    "Next is **`md_locations`**, which tells us where data is missing within each feature. Here, 1 = missing; 0 = observed"
   ]
  },
  {
   "cell_type": "code",
   "execution_count": 6,
   "metadata": {},
   "outputs": [
    {
     "data": {
      "text/html": [
       "<div>\n",
       "<style>\n",
       "    .dataframe thead tr:only-child th {\n",
       "        text-align: right;\n",
       "    }\n",
       "\n",
       "    .dataframe thead th {\n",
       "        text-align: left;\n",
       "    }\n",
       "\n",
       "    .dataframe tbody tr th {\n",
       "        vertical-align: top;\n",
       "    }\n",
       "</style>\n",
       "<table border=\"1\" class=\"dataframe\">\n",
       "  <thead>\n",
       "    <tr style=\"text-align: right;\">\n",
       "      <th></th>\n",
       "      <th>A</th>\n",
       "      <th>B</th>\n",
       "      <th>C</th>\n",
       "    </tr>\n",
       "  </thead>\n",
       "  <tbody>\n",
       "    <tr>\n",
       "      <th>0</th>\n",
       "      <td>0</td>\n",
       "      <td>0</td>\n",
       "      <td>0</td>\n",
       "    </tr>\n",
       "    <tr>\n",
       "      <th>1</th>\n",
       "      <td>0</td>\n",
       "      <td>0</td>\n",
       "      <td>0</td>\n",
       "    </tr>\n",
       "    <tr>\n",
       "      <th>2</th>\n",
       "      <td>0</td>\n",
       "      <td>0</td>\n",
       "      <td>1</td>\n",
       "    </tr>\n",
       "    <tr>\n",
       "      <th>3</th>\n",
       "      <td>0</td>\n",
       "      <td>0</td>\n",
       "      <td>1</td>\n",
       "    </tr>\n",
       "    <tr>\n",
       "      <th>4</th>\n",
       "      <td>0</td>\n",
       "      <td>0</td>\n",
       "      <td>1</td>\n",
       "    </tr>\n",
       "    <tr>\n",
       "      <th>5</th>\n",
       "      <td>0</td>\n",
       "      <td>1</td>\n",
       "      <td>0</td>\n",
       "    </tr>\n",
       "    <tr>\n",
       "      <th>6</th>\n",
       "      <td>1</td>\n",
       "      <td>1</td>\n",
       "      <td>0</td>\n",
       "    </tr>\n",
       "    <tr>\n",
       "      <th>7</th>\n",
       "      <td>1</td>\n",
       "      <td>1</td>\n",
       "      <td>0</td>\n",
       "    </tr>\n",
       "  </tbody>\n",
       "</table>\n",
       "</div>"
      ],
      "text/plain": [
       "   A  B  C\n",
       "0  0  0  0\n",
       "1  0  0  0\n",
       "2  0  0  1\n",
       "3  0  0  1\n",
       "4  0  0  1\n",
       "5  0  1  0\n",
       "6  1  1  0\n",
       "7  1  1  0"
      ]
     },
     "execution_count": 6,
     "metadata": {},
     "output_type": "execute_result"
    }
   ],
   "source": [
    "au.md_locations(missing_data)"
   ]
  },
  {
   "cell_type": "markdown",
   "metadata": {},
   "source": [
    "Next, **`md_pattern`** shows us the row-wise patterns of missingness in our dataset. Let's start with the first row in the output below. There are 2 instances (count = 2) where every feature is observed (1). As a result, this row has no missing data (nmis = 0). Now examine the last row in the output below. There are 2 instances (count = 2) where column $A$ and $B$ having missing values while column $C$ is observed. As a result, this row has 2 of 3 features missing (nmis = 2)."
   ]
  },
  {
   "cell_type": "code",
   "execution_count": 7,
   "metadata": {},
   "outputs": [
    {
     "data": {
      "text/html": [
       "<div>\n",
       "<style>\n",
       "    .dataframe thead tr:only-child th {\n",
       "        text-align: right;\n",
       "    }\n",
       "\n",
       "    .dataframe thead th {\n",
       "        text-align: left;\n",
       "    }\n",
       "\n",
       "    .dataframe tbody tr th {\n",
       "        vertical-align: top;\n",
       "    }\n",
       "</style>\n",
       "<table border=\"1\" class=\"dataframe\">\n",
       "  <thead>\n",
       "    <tr style=\"text-align: right;\">\n",
       "      <th></th>\n",
       "      <th>count</th>\n",
       "      <th>A</th>\n",
       "      <th>B</th>\n",
       "      <th>C</th>\n",
       "      <th>nmis</th>\n",
       "    </tr>\n",
       "  </thead>\n",
       "  <tbody>\n",
       "    <tr>\n",
       "      <th>0</th>\n",
       "      <td>2</td>\n",
       "      <td>1</td>\n",
       "      <td>1</td>\n",
       "      <td>1</td>\n",
       "      <td>0</td>\n",
       "    </tr>\n",
       "    <tr>\n",
       "      <th>1</th>\n",
       "      <td>3</td>\n",
       "      <td>1</td>\n",
       "      <td>1</td>\n",
       "      <td>0</td>\n",
       "      <td>1</td>\n",
       "    </tr>\n",
       "    <tr>\n",
       "      <th>2</th>\n",
       "      <td>1</td>\n",
       "      <td>1</td>\n",
       "      <td>0</td>\n",
       "      <td>1</td>\n",
       "      <td>1</td>\n",
       "    </tr>\n",
       "    <tr>\n",
       "      <th>3</th>\n",
       "      <td>2</td>\n",
       "      <td>0</td>\n",
       "      <td>0</td>\n",
       "      <td>1</td>\n",
       "      <td>2</td>\n",
       "    </tr>\n",
       "  </tbody>\n",
       "</table>\n",
       "</div>"
      ],
      "text/plain": [
       "   count  A  B  C  nmis\n",
       "0      2  1  1  1     0\n",
       "1      3  1  1  0     1\n",
       "2      1  1  0  1     1\n",
       "3      2  0  0  1     2"
      ]
     },
     "execution_count": 7,
     "metadata": {},
     "output_type": "execute_result"
    }
   ],
   "source": [
    "au.md_pattern(missing_data)"
   ]
  },
  {
   "cell_type": "markdown",
   "metadata": {},
   "source": [
    "**`md_pairs`** counts the number of missingness pair types between each set of features in a dataset. The pair types are:\n",
    "1. `rr`: response-response pairs\n",
    "2. `rm`: response-missing pairs\n",
    "3. `mr`: missing-response pairs\n",
    "4. `mm`: missing-missing pairs\n",
    "\n",
    "The method returns a square matrix for each pair. In the output below, the name of each pair is capitalized to remain consistent with matrix notation in Latex used in this tutorial. `rr` and `mm` are symmetric, as the number of observed-observed or missing-missing patterns is the same regardless of which feature is first In the output below, $RR_{A,B}$ indicates that there are 5 instances where $A$ and $B$ are both observed.Note that $RR_{A,B} = RR_{B,A} = 5$ Another example below, $MR_{A,C}$ indicates that there are 2 instances where $A$ is missing and $C$ is observed. Note that $MR_{A,C} = RM_{C,A} = 2$"
   ]
  },
  {
   "cell_type": "code",
   "execution_count": 8,
   "metadata": {},
   "outputs": [
    {
     "name": "stdout",
     "output_type": "stream",
     "text": [
      "RR\n",
      "----------\n",
      "   A  B  C\n",
      "A  6  5  3\n",
      "B  5  5  2\n",
      "C  3  2  5\n",
      "RM\n",
      "----------\n",
      "   A  B  C\n",
      "A  0  1  3\n",
      "B  0  0  3\n",
      "C  2  3  0\n",
      "MR\n",
      "----------\n",
      "   A  B  C\n",
      "A  0  0  2\n",
      "B  1  0  3\n",
      "C  3  3  0\n",
      "MM\n",
      "----------\n",
      "   A  B  C\n",
      "A  2  2  0\n",
      "B  2  3  0\n",
      "C  0  0  3\n"
     ]
    }
   ],
   "source": [
    "pairs = au.md_pairs(missing_data)\n",
    "for pair_name, pair_data in pairs.items():\n",
    "    print(f\"{pair_name.upper()}\\n{'-'*10}\")\n",
    "    print(f\"{pair_data}\")"
   ]
  },
  {
   "cell_type": "markdown",
   "metadata": {},
   "source": [
    "#### Missingness Statistics\n",
    "The `utils` module includes statistics to assess the examine the effect of missing data on potential feature importance. These methods help assess which features may or may not be good candidates to be imputed or to assist in the imputation of features."
   ]
  },
  {
   "cell_type": "markdown",
   "metadata": {},
   "source": [
    "**`inbound`** represents the proportion of useable cases in each column that can be used to impute the feature in each row. For this reason, the diagonal of the matrix is zero, as a feature cannot be useful to impute itself. A high value in an element indicates that the column is useful to impute the row. A low value in an element indicates that the column is not useful to impute the row. In the outbut below, we see that $I_{A,B} = 0$, because there are $0$ instances where $B$ is observed while $A$ is missing. This finding suggests that **$B$ is not helpful to impute $A$** Extending this finding, we see the $C$ is always observed when $A$ is missing ($I_{A,C}$), so $C$ is useful to impute $A$ For features we are interested in imputing, we want them to have at least one (and preferably all) high values across their inbound row."
   ]
  },
  {
   "cell_type": "code",
   "execution_count": 9,
   "metadata": {},
   "outputs": [
    {
     "data": {
      "text/html": [
       "<div>\n",
       "<style>\n",
       "    .dataframe thead tr:only-child th {\n",
       "        text-align: right;\n",
       "    }\n",
       "\n",
       "    .dataframe thead th {\n",
       "        text-align: left;\n",
       "    }\n",
       "\n",
       "    .dataframe tbody tr th {\n",
       "        vertical-align: top;\n",
       "    }\n",
       "</style>\n",
       "<table border=\"1\" class=\"dataframe\">\n",
       "  <thead>\n",
       "    <tr style=\"text-align: right;\">\n",
       "      <th></th>\n",
       "      <th>A</th>\n",
       "      <th>B</th>\n",
       "      <th>C</th>\n",
       "    </tr>\n",
       "  </thead>\n",
       "  <tbody>\n",
       "    <tr>\n",
       "      <th>A</th>\n",
       "      <td>0.000000</td>\n",
       "      <td>0.0</td>\n",
       "      <td>1.0</td>\n",
       "    </tr>\n",
       "    <tr>\n",
       "      <th>B</th>\n",
       "      <td>0.333333</td>\n",
       "      <td>0.0</td>\n",
       "      <td>1.0</td>\n",
       "    </tr>\n",
       "    <tr>\n",
       "      <th>C</th>\n",
       "      <td>1.000000</td>\n",
       "      <td>1.0</td>\n",
       "      <td>0.0</td>\n",
       "    </tr>\n",
       "  </tbody>\n",
       "</table>\n",
       "</div>"
      ],
      "text/plain": [
       "          A    B    C\n",
       "A  0.000000  0.0  1.0\n",
       "B  0.333333  0.0  1.0\n",
       "C  1.000000  1.0  0.0"
      ]
     },
     "execution_count": 9,
     "metadata": {},
     "output_type": "execute_result"
    }
   ],
   "source": [
    "au.inbound(missing_data)"
   ]
  },
  {
   "cell_type": "markdown",
   "metadata": {},
   "source": [
    "**`outbound`** represents how well each column is connected to the rest of the data in each row. For this reason, the diagonal of the matrix is zero, as a feature cannot be well connected to itself. A high value in an element indicates that a row's observed features correspond with most of a column's missing features. A low value in an element indicates that a row's observed features correspond with few of a column's missing features. For example, $O_{B,C} = 0.6$. $A$ has 5 observed values. Of those 5, 3 from $C$ are missing, so outbound = 0.6. This finding suggests that observed in $B$ is well connected to missing in $C$, and $B$ may be helpful to impute $C$. We prefer features have high outbound values in the columns that they are used to impute."
   ]
  },
  {
   "cell_type": "code",
   "execution_count": 10,
   "metadata": {},
   "outputs": [
    {
     "data": {
      "text/html": [
       "<div>\n",
       "<style>\n",
       "    .dataframe thead tr:only-child th {\n",
       "        text-align: right;\n",
       "    }\n",
       "\n",
       "    .dataframe thead th {\n",
       "        text-align: left;\n",
       "    }\n",
       "\n",
       "    .dataframe tbody tr th {\n",
       "        vertical-align: top;\n",
       "    }\n",
       "</style>\n",
       "<table border=\"1\" class=\"dataframe\">\n",
       "  <thead>\n",
       "    <tr style=\"text-align: right;\">\n",
       "      <th></th>\n",
       "      <th>A</th>\n",
       "      <th>B</th>\n",
       "      <th>C</th>\n",
       "    </tr>\n",
       "  </thead>\n",
       "  <tbody>\n",
       "    <tr>\n",
       "      <th>A</th>\n",
       "      <td>0.0</td>\n",
       "      <td>0.166667</td>\n",
       "      <td>0.5</td>\n",
       "    </tr>\n",
       "    <tr>\n",
       "      <th>B</th>\n",
       "      <td>0.0</td>\n",
       "      <td>0.000000</td>\n",
       "      <td>0.6</td>\n",
       "    </tr>\n",
       "    <tr>\n",
       "      <th>C</th>\n",
       "      <td>0.4</td>\n",
       "      <td>0.600000</td>\n",
       "      <td>0.0</td>\n",
       "    </tr>\n",
       "  </tbody>\n",
       "</table>\n",
       "</div>"
      ],
      "text/plain": [
       "     A         B    C\n",
       "A  0.0  0.166667  0.5\n",
       "B  0.0  0.000000  0.6\n",
       "C  0.4  0.600000  0.0"
      ]
     },
     "execution_count": 10,
     "metadata": {},
     "output_type": "execute_result"
    }
   ],
   "source": [
    "au.outbound(missing_data)"
   ]
  },
  {
   "cell_type": "markdown",
   "metadata": {},
   "source": [
    "**`flux`** collects five statistics in one method. They are:\n",
    "1. `ainb`: average inbound\n",
    "2. `aout`: average outbound\n",
    "3. `influx`: influx coefficient\n",
    "4. `outflux`: outflux coefficient\n",
    "5. `pobs`: percentage observed\n",
    "\n",
    "Of interest here are the **`influx`** and **`outflux`** statistics."
   ]
  },
  {
   "cell_type": "markdown",
   "metadata": {},
   "source": [
    "**`influx`** $\\rightarrow I_{jk} = \\frac{mr}{mr+rr}$. The number of `mr` pairs divided by the sum of `mr` and `rr. 0 = completely observed, 1 = completely missing. For two values with the same proportion of missing values, the one **with higher influx is \"easier\" to impute.**"
   ]
  },
  {
   "cell_type": "markdown",
   "metadata": {},
   "source": [
    "**`outflux`** $\\rightarrow O_{jk} = \\frac{rm}{rm+mm}$. The number of `rm` pairs divided by the sum of `rm` and `mm`. 0 = completely missing, 1 = completely observed. For two values with the same proportion of missing values, the one with **higher outflux is better connected and thus a better imputer.**"
   ]
  },
  {
   "cell_type": "code",
   "execution_count": 11,
   "metadata": {},
   "outputs": [
    {
     "data": {
      "text/html": [
       "<div>\n",
       "<style>\n",
       "    .dataframe thead tr:only-child th {\n",
       "        text-align: right;\n",
       "    }\n",
       "\n",
       "    .dataframe thead th {\n",
       "        text-align: left;\n",
       "    }\n",
       "\n",
       "    .dataframe tbody tr th {\n",
       "        vertical-align: top;\n",
       "    }\n",
       "</style>\n",
       "<table border=\"1\" class=\"dataframe\">\n",
       "  <thead>\n",
       "    <tr style=\"text-align: right;\">\n",
       "      <th></th>\n",
       "      <th>ainb</th>\n",
       "      <th>aout</th>\n",
       "      <th>influx</th>\n",
       "      <th>outflux</th>\n",
       "      <th>pobs</th>\n",
       "    </tr>\n",
       "  </thead>\n",
       "  <tbody>\n",
       "    <tr>\n",
       "      <th>A</th>\n",
       "      <td>0.500000</td>\n",
       "      <td>0.333333</td>\n",
       "      <td>0.125</td>\n",
       "      <td>0.500</td>\n",
       "      <td>0.750</td>\n",
       "    </tr>\n",
       "    <tr>\n",
       "      <th>B</th>\n",
       "      <td>0.666667</td>\n",
       "      <td>0.300000</td>\n",
       "      <td>0.250</td>\n",
       "      <td>0.375</td>\n",
       "      <td>0.625</td>\n",
       "    </tr>\n",
       "    <tr>\n",
       "      <th>C</th>\n",
       "      <td>1.000000</td>\n",
       "      <td>0.500000</td>\n",
       "      <td>0.375</td>\n",
       "      <td>0.625</td>\n",
       "      <td>0.625</td>\n",
       "    </tr>\n",
       "  </tbody>\n",
       "</table>\n",
       "</div>"
      ],
      "text/plain": [
       "       ainb      aout  influx  outflux   pobs\n",
       "A  0.500000  0.333333   0.125    0.500  0.750\n",
       "B  0.666667  0.300000   0.250    0.375  0.625\n",
       "C  1.000000  0.500000   0.375    0.625  0.625"
      ]
     },
     "execution_count": 11,
     "metadata": {},
     "output_type": "execute_result"
    }
   ],
   "source": [
    "au.flux(missing_data)"
   ]
  }
 ],
 "metadata": {
  "kernelspec": {
   "display_name": "Python 3",
   "language": "python",
   "name": "python3"
  },
  "language_info": {
   "codemirror_mode": {
    "name": "ipython",
    "version": 3
   },
   "file_extension": ".py",
   "mimetype": "text/x-python",
   "name": "python",
   "nbconvert_exporter": "python",
   "pygments_lexer": "ipython3",
   "version": "3.6.2"
  }
 },
 "nbformat": 4,
 "nbformat_minor": 2
}
